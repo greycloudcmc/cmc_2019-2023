{
 "cells": [
  {
   "cell_type": "code",
   "execution_count": 1,
   "metadata": {},
   "outputs": [],
   "source": [
    "import pandas as pd\n",
    "import numpy as np\n",
    "from datetime import timedelta, date\n",
    "from dateutil.rrule import rrule, DAILY"
   ]
  },
  {
   "cell_type": "code",
   "execution_count": 2,
   "metadata": {},
   "outputs": [],
   "source": [
    "#чтение данных для дальнейшей обработки\n",
    "sell = pd.read_csv('MS-b1-sell.csv')\n",
    "inventory = pd.read_csv('MS-b1-inventory.csv')\n",
    "supply = pd.read_csv('MS-b1-supply.csv')"
   ]
  },
  {
   "cell_type": "code",
   "execution_count": 3,
   "metadata": {},
   "outputs": [],
   "source": [
    "#чтение данных для проверки пунктов 1 и 2\n",
    "daily_check = pd.read_csv('MS-b1-daily.csv')\n",
    "steal_check = pd.read_csv('MS-b1-steal.csv')"
   ]
  },
  {
   "cell_type": "code",
   "execution_count": 4,
   "metadata": {},
   "outputs": [
    {
     "name": "stdout",
     "output_type": "stream",
     "text": [
      "<class 'pandas.core.frame.DataFrame'>\n",
      "RangeIndex: 7348354 entries, 0 to 7348353\n",
      "Data columns (total 2 columns):\n",
      " #   Column   Dtype         \n",
      "---  ------   -----         \n",
      " 0   date     datetime64[ns]\n",
      " 1   sku_num  object        \n",
      "dtypes: datetime64[ns](1), object(1)\n",
      "memory usage: 112.1+ MB\n",
      "<class 'pandas.core.frame.DataFrame'>\n",
      "RangeIndex: 240 entries, 0 to 239\n",
      "Data columns (total 3 columns):\n",
      " #   Column  Non-Null Count  Dtype         \n",
      "---  ------  --------------  -----         \n",
      " 0   date    240 non-null    datetime64[ns]\n",
      " 1   apple   240 non-null    int64         \n",
      " 2   pen     240 non-null    int64         \n",
      "dtypes: datetime64[ns](1), int64(2)\n",
      "memory usage: 5.8 KB\n",
      "<class 'pandas.core.frame.DataFrame'>\n",
      "RangeIndex: 120 entries, 0 to 119\n",
      "Data columns (total 3 columns):\n",
      " #   Column  Non-Null Count  Dtype         \n",
      "---  ------  --------------  -----         \n",
      " 0   date    120 non-null    datetime64[ns]\n",
      " 1   apple   120 non-null    int64         \n",
      " 2   pen     120 non-null    int64         \n",
      "dtypes: datetime64[ns](1), int64(2)\n",
      "memory usage: 2.9 KB\n"
     ]
    }
   ],
   "source": [
    "#предобработка датафреймов, на всякий случай удаляем пустые строки\n",
    "sell.date = pd.to_datetime(sell.date)\n",
    "sell.dropna()\n",
    "sell.info()\n",
    "\n",
    "supply.date = pd.to_datetime(supply.date)\n",
    "supply.dropna()\n",
    "supply.info()\n",
    "\n",
    "inventory.date = pd.to_datetime(inventory.date)\n",
    "inventory.dropna()\n",
    "inventory.info()"
   ]
  },
  {
   "cell_type": "code",
   "execution_count": 5,
   "metadata": {},
   "outputs": [],
   "source": [
    "#работа с данными из MS-b1-sell.csv для получения датафрейма по виду аналогичному датафреймам supply и inventory \n",
    "#определение типа товара по sku_num по 6-му и -7-му символам\n",
    "test = sell\n",
    "\n",
    "def product_type(sku_num):\n",
    "    if (sku_num[6:8] == 'pe'):\n",
    "        return 'pen'\n",
    "    else:\n",
    "        return 'apple'\n",
    "    \n",
    "#добавление колонки  product_type со значением pen или apple  \n",
    "\n",
    "test['product_type'] = test.apply(lambda x: product_type(x['sku_num']), axis = 1)"
   ]
  },
  {
   "cell_type": "code",
   "execution_count": 6,
   "metadata": {},
   "outputs": [
    {
     "data": {
      "text/html": [
       "<div>\n",
       "<style scoped>\n",
       "    .dataframe tbody tr th:only-of-type {\n",
       "        vertical-align: middle;\n",
       "    }\n",
       "\n",
       "    .dataframe tbody tr th {\n",
       "        vertical-align: top;\n",
       "    }\n",
       "\n",
       "    .dataframe thead th {\n",
       "        text-align: right;\n",
       "    }\n",
       "</style>\n",
       "<table border=\"1\" class=\"dataframe\">\n",
       "  <thead>\n",
       "    <tr style=\"text-align: right;\">\n",
       "      <th></th>\n",
       "      <th>date</th>\n",
       "      <th>sku_num</th>\n",
       "      <th>product_type</th>\n",
       "    </tr>\n",
       "  </thead>\n",
       "  <tbody>\n",
       "    <tr>\n",
       "      <th>0</th>\n",
       "      <td>2006-01-01</td>\n",
       "      <td>MS-b1-ap-48914c5b-14d2-4b20-bdaf-b2ff5d9f4f0c</td>\n",
       "      <td>apple</td>\n",
       "    </tr>\n",
       "    <tr>\n",
       "      <th>1</th>\n",
       "      <td>2006-01-01</td>\n",
       "      <td>MS-b1-ap-6baf7287-3e6a-4728-a3b1-8613de51eef8</td>\n",
       "      <td>apple</td>\n",
       "    </tr>\n",
       "    <tr>\n",
       "      <th>2</th>\n",
       "      <td>2006-01-01</td>\n",
       "      <td>MS-b1-ap-83d7b005-c7d9-4deb-93a2-a8f7606d02b5</td>\n",
       "      <td>apple</td>\n",
       "    </tr>\n",
       "    <tr>\n",
       "      <th>3</th>\n",
       "      <td>2006-01-01</td>\n",
       "      <td>MS-b1-ap-9099c5de-028d-4b07-97be-6f6532b8674a</td>\n",
       "      <td>apple</td>\n",
       "    </tr>\n",
       "    <tr>\n",
       "      <th>4</th>\n",
       "      <td>2006-01-01</td>\n",
       "      <td>MS-b1-ap-ee0ce843-a979-4798-a542-75a41d1610c3</td>\n",
       "      <td>apple</td>\n",
       "    </tr>\n",
       "  </tbody>\n",
       "</table>\n",
       "</div>"
      ],
      "text/plain": [
       "        date                                        sku_num product_type\n",
       "0 2006-01-01  MS-b1-ap-48914c5b-14d2-4b20-bdaf-b2ff5d9f4f0c        apple\n",
       "1 2006-01-01  MS-b1-ap-6baf7287-3e6a-4728-a3b1-8613de51eef8        apple\n",
       "2 2006-01-01  MS-b1-ap-83d7b005-c7d9-4deb-93a2-a8f7606d02b5        apple\n",
       "3 2006-01-01  MS-b1-ap-9099c5de-028d-4b07-97be-6f6532b8674a        apple\n",
       "4 2006-01-01  MS-b1-ap-ee0ce843-a979-4798-a542-75a41d1610c3        apple"
      ]
     },
     "execution_count": 6,
     "metadata": {},
     "output_type": "execute_result"
    }
   ],
   "source": [
    "test.sort_values(['date', 'product_type'], inplace = True)\n",
    "test.head(5)"
   ]
  },
  {
   "cell_type": "code",
   "execution_count": 7,
   "metadata": {},
   "outputs": [
    {
     "name": "stdout",
     "output_type": "stream",
     "text": [
      "<class 'pandas.core.frame.DataFrame'>\n",
      "MultiIndex: 7304 entries, (Timestamp('2006-01-01 00:00:00'), 'apple') to (Timestamp('2015-12-31 00:00:00'), 'pen')\n",
      "Data columns (total 1 columns):\n",
      " #   Column   Non-Null Count  Dtype\n",
      "---  ------   --------------  -----\n",
      " 0   sku_num  7304 non-null   int64\n",
      "dtypes: int64(1)\n",
      "memory usage: 107.1+ KB\n"
     ]
    }
   ],
   "source": [
    "#подсчет количества проданного товара каждого типа за каждый день\n",
    "def convert_order(sku_num):\n",
    "    return 1\n",
    "\n",
    "test['sku_num'] = test.apply(lambda x: convert_order(x['sku_num']), axis = 1)\n",
    "test = test.astype({'sku_num':'int'})\n",
    "\n",
    "sell_daily = test.groupby(['date', 'product_type'])['sku_num'].sum()\n",
    "sell_daily = pd.DataFrame(sell_daily)\n",
    "sell_daily.info()"
   ]
  },
  {
   "cell_type": "code",
   "execution_count": 8,
   "metadata": {},
   "outputs": [
    {
     "data": {
      "text/html": [
       "<div>\n",
       "<style scoped>\n",
       "    .dataframe tbody tr th:only-of-type {\n",
       "        vertical-align: middle;\n",
       "    }\n",
       "\n",
       "    .dataframe tbody tr th {\n",
       "        vertical-align: top;\n",
       "    }\n",
       "\n",
       "    .dataframe thead th {\n",
       "        text-align: right;\n",
       "    }\n",
       "</style>\n",
       "<table border=\"1\" class=\"dataframe\">\n",
       "  <thead>\n",
       "    <tr style=\"text-align: right;\">\n",
       "      <th>product_type</th>\n",
       "      <th>apple</th>\n",
       "      <th>pen</th>\n",
       "    </tr>\n",
       "    <tr>\n",
       "      <th>date</th>\n",
       "      <th></th>\n",
       "      <th></th>\n",
       "    </tr>\n",
       "  </thead>\n",
       "  <tbody>\n",
       "    <tr>\n",
       "      <th>2006-01-01</th>\n",
       "      <td>1815</td>\n",
       "      <td>156</td>\n",
       "    </tr>\n",
       "    <tr>\n",
       "      <th>2006-01-02</th>\n",
       "      <td>1862</td>\n",
       "      <td>143</td>\n",
       "    </tr>\n",
       "    <tr>\n",
       "      <th>2006-01-03</th>\n",
       "      <td>1880</td>\n",
       "      <td>171</td>\n",
       "    </tr>\n",
       "    <tr>\n",
       "      <th>2006-01-04</th>\n",
       "      <td>1797</td>\n",
       "      <td>153</td>\n",
       "    </tr>\n",
       "    <tr>\n",
       "      <th>2006-01-05</th>\n",
       "      <td>1942</td>\n",
       "      <td>133</td>\n",
       "    </tr>\n",
       "  </tbody>\n",
       "</table>\n",
       "</div>"
      ],
      "text/plain": [
       "product_type  apple  pen\n",
       "date                    \n",
       "2006-01-01     1815  156\n",
       "2006-01-02     1862  143\n",
       "2006-01-03     1880  171\n",
       "2006-01-04     1797  153\n",
       "2006-01-05     1942  133"
      ]
     },
     "execution_count": 8,
     "metadata": {},
     "output_type": "execute_result"
    }
   ],
   "source": [
    "#преобразование полученного датафрейма\n",
    "sell_daily = pd.DataFrame(sell_daily.unstack(level = -1))\n",
    "sell_daily.columns = sell_daily.columns.droplevel(0)\n",
    "sell_daily.head(5)"
   ]
  },
  {
   "cell_type": "code",
   "execution_count": 9,
   "metadata": {},
   "outputs": [],
   "source": [
    "supply = supply.set_index('date')\n",
    "inventory = inventory.set_index('date')"
   ]
  },
  {
   "cell_type": "code",
   "execution_count": 10,
   "metadata": {},
   "outputs": [],
   "source": [
    "#три датафрейма: sell_daily (ежедневное количество продаж по каждому типу товара),supply и inventory приводим к одному и тому же виду:\n",
    "#индексы датафреймов - даты, колонки - 'apple' и 'pen'\n",
    "\n",
    "sell_daily.index = [*map(lambda x: x.date(), sell_daily.index)]\n",
    "supply.index = [*map(lambda x: x.date(), supply.index)]\n",
    "inventory.index = [*map(lambda x: x.date(), inventory.index)]"
   ]
  },
  {
   "cell_type": "code",
   "execution_count": 11,
   "metadata": {},
   "outputs": [],
   "source": [
    "my_daily = sell_daily.copy()\n",
    "my_steal = inventory.copy()"
   ]
  },
  {
   "cell_type": "code",
   "execution_count": 12,
   "metadata": {},
   "outputs": [],
   "source": [
    "#посчет остатка товара на складе каждый день в my_daily и количества украденного товара в месяц в my_steal\n",
    "#ежедневный остаток для каждого типа товара рассчитывается так:\n",
    "#запускается цикл по дням от 2006-01-01 до 2015-12-31\n",
    "#для каждого дня проверяем, какое именно сегодня число. \n",
    "#если сегодня 1 или 15(дни поставок),то текущий остаток - это сумма вчерашнего отстатка и сегодняшней поставки минус сегодняшние продажи\n",
    "#иначе текущий остаток - это вчерашний остаток минус сегодняшние продажи\n",
    "#также необходимо в текущем состоянии склада учитывать кражи. Учет и подсчет краж идет следующим образом:\n",
    "#если текущий день - конец месяца, то текущий остаток сначала считается по схеме, описанной выше\n",
    "#затем в датафрейм my_steal записывается разница текущего остатка и инвертаризации за данный месяц, а потом \n",
    "#значение текущего остатка заменяем значением из таблицы ежемесячной инвентаризации\n",
    "\n",
    "start_date = date(2006, 1, 2)\n",
    "end_date = date(2015, 12, 31)\n",
    "start = date(2006,1,1)\n",
    "\n",
    "my_daily.loc[start, 'apple'] = supply.loc[start, 'apple'] - sell_daily.loc[start, 'apple']\n",
    "my_daily.loc[start, 'pen'] = supply.loc[start, 'pen'] - sell_daily.loc[start, 'pen']\n",
    "\n",
    "for today in rrule(DAILY, dtstart = start_date, until = end_date):\n",
    "    \n",
    "    yesterday = today - timedelta(days = 1)\n",
    "    tomorrow = today + timedelta(days = 1)\n",
    "    \n",
    "    pd_today = today.date()\n",
    "    pd_yesterday = yesterday.date()\n",
    "    \n",
    "    if(today.strftime(\"%d\") == '01' or today.strftime(\"%d\") == '15'):\n",
    "        my_daily.loc[pd_today, 'apple'] = my_daily.loc[pd_yesterday, 'apple'] + supply.loc[pd_today, 'apple']\n",
    "        my_daily.loc[pd_today, 'pen'] = my_daily.loc[pd_yesterday, 'pen'] + supply.loc[pd_today, 'pen']\n",
    "    else:\n",
    "        my_daily.loc[pd_today, 'apple'] = my_daily.loc[pd_yesterday, 'apple']\n",
    "        my_daily.loc[pd_today, 'pen'] = my_daily.loc[pd_yesterday, 'pen']\n",
    "        \n",
    "    my_daily.loc[pd_today, 'apple'] -= sell_daily.loc[pd_today, 'apple'] \n",
    "    my_daily.loc[pd_today, 'pen'] -= sell_daily.loc[pd_today, 'pen']\n",
    "    \n",
    "    if (today.strftime(\"%m\") != tomorrow.strftime(\"%m\")):\n",
    "        my_steal.loc[pd_today, 'apple'] = my_daily.loc[pd_today, 'apple'] - inventory.loc[pd_today, 'apple']\n",
    "        my_steal.loc[pd_today, 'pen'] = my_daily.loc[pd_today, 'pen'] - inventory.loc[pd_today, 'pen']\n",
    "        my_daily.loc[pd_today, 'apple'] = inventory.loc[pd_today, 'apple']\n",
    "        my_daily.loc[pd_today, 'pen'] = inventory.loc[pd_today, 'pen']\n",
    "\n",
    "        \n",
    "\n",
    "    \n",
    "    \n",
    "    "
   ]
  },
  {
   "cell_type": "markdown",
   "metadata": {},
   "source": [
    "### Ежедневное состояние склада"
   ]
  },
  {
   "cell_type": "code",
   "execution_count": 13,
   "metadata": {},
   "outputs": [
    {
     "name": "stdout",
     "output_type": "stream",
     "text": [
      "head(5)\n",
      " product_type  apple   pen\n",
      "2006-01-01    33271  2574\n",
      "2006-01-02    31409  2431\n",
      "2006-01-03    29529  2260\n",
      "2006-01-04    27732  2107\n",
      "2006-01-05    25790  1974\n",
      "tail(5)\n",
      " product_type    apple     pen\n",
      "2015-12-27    1576773  123171\n",
      "2015-12-28    1574976  123011\n",
      "2015-12-29    1573136  122872\n",
      "2015-12-30    1571316  122732\n",
      "2015-12-31    1569425  122601\n"
     ]
    }
   ],
   "source": [
    "print(\"head(5)\\n\", my_daily.head(5))\n",
    "print(\"tail(5)\\n\",my_daily.tail(5))"
   ]
  },
  {
   "cell_type": "markdown",
   "metadata": {},
   "source": [
    "### Ежемесячное количество сворованного товара"
   ]
  },
  {
   "cell_type": "code",
   "execution_count": 14,
   "metadata": {},
   "outputs": [
    {
     "name": "stdout",
     "output_type": "stream",
     "text": [
      "head(5)\n",
      "             apple  pen\n",
      "2006-01-31     10   11\n",
      "2006-02-28      6    6\n",
      "2006-03-31      7    6\n",
      "2006-04-30      6   14\n",
      "2006-05-31      8    1\n",
      "tail(5)\n",
      "             apple  pen\n",
      "2015-08-31      5    7\n",
      "2015-09-30      5    7\n",
      "2015-10-31      8    7\n",
      "2015-11-30      6    5\n",
      "2015-12-31      7    7\n"
     ]
    }
   ],
   "source": [
    "print(\"head(5)\\n\",my_steal.head(5))\n",
    "print(\"tail(5)\\n\",my_steal.tail(5))"
   ]
  },
  {
   "cell_type": "markdown",
   "metadata": {},
   "source": [
    "### steal_final - итоговый датафрейм со сворованным товаром, а daily_final - итоговый датафрейм ежедневого состояния склада."
   ]
  },
  {
   "cell_type": "code",
   "execution_count": 15,
   "metadata": {},
   "outputs": [],
   "source": [
    "steal_final = my_steal.reset_index()\n",
    "daily_final = my_daily.reset_index()"
   ]
  },
  {
   "cell_type": "code",
   "execution_count": 16,
   "metadata": {},
   "outputs": [],
   "source": [
    "daily_final = daily_final.rename(columns ={'index':'date'})\n",
    "daily_final['date'] = pd.to_datetime(daily_final['date'])"
   ]
  },
  {
   "cell_type": "code",
   "execution_count": 17,
   "metadata": {},
   "outputs": [],
   "source": [
    "steal_final = steal_final.rename(columns ={'index':'date'})\n",
    "steal_final['date'] = pd.to_datetime(steal_final['date'])"
   ]
  },
  {
   "cell_type": "code",
   "execution_count": 18,
   "metadata": {},
   "outputs": [
    {
     "data": {
      "text/html": [
       "<div>\n",
       "<style scoped>\n",
       "    .dataframe tbody tr th:only-of-type {\n",
       "        vertical-align: middle;\n",
       "    }\n",
       "\n",
       "    .dataframe tbody tr th {\n",
       "        vertical-align: top;\n",
       "    }\n",
       "\n",
       "    .dataframe thead th {\n",
       "        text-align: right;\n",
       "    }\n",
       "</style>\n",
       "<table border=\"1\" class=\"dataframe\">\n",
       "  <thead>\n",
       "    <tr style=\"text-align: right;\">\n",
       "      <th>product_type</th>\n",
       "      <th>date</th>\n",
       "      <th>apple</th>\n",
       "      <th>pen</th>\n",
       "    </tr>\n",
       "  </thead>\n",
       "  <tbody>\n",
       "    <tr>\n",
       "      <th>0</th>\n",
       "      <td>2006-01-01</td>\n",
       "      <td>33271</td>\n",
       "      <td>2574</td>\n",
       "    </tr>\n",
       "    <tr>\n",
       "      <th>1</th>\n",
       "      <td>2006-01-02</td>\n",
       "      <td>31409</td>\n",
       "      <td>2431</td>\n",
       "    </tr>\n",
       "    <tr>\n",
       "      <th>2</th>\n",
       "      <td>2006-01-03</td>\n",
       "      <td>29529</td>\n",
       "      <td>2260</td>\n",
       "    </tr>\n",
       "    <tr>\n",
       "      <th>3</th>\n",
       "      <td>2006-01-04</td>\n",
       "      <td>27732</td>\n",
       "      <td>2107</td>\n",
       "    </tr>\n",
       "    <tr>\n",
       "      <th>4</th>\n",
       "      <td>2006-01-05</td>\n",
       "      <td>25790</td>\n",
       "      <td>1974</td>\n",
       "    </tr>\n",
       "    <tr>\n",
       "      <th>...</th>\n",
       "      <td>...</td>\n",
       "      <td>...</td>\n",
       "      <td>...</td>\n",
       "    </tr>\n",
       "    <tr>\n",
       "      <th>3647</th>\n",
       "      <td>2015-12-27</td>\n",
       "      <td>1576773</td>\n",
       "      <td>123171</td>\n",
       "    </tr>\n",
       "    <tr>\n",
       "      <th>3648</th>\n",
       "      <td>2015-12-28</td>\n",
       "      <td>1574976</td>\n",
       "      <td>123011</td>\n",
       "    </tr>\n",
       "    <tr>\n",
       "      <th>3649</th>\n",
       "      <td>2015-12-29</td>\n",
       "      <td>1573136</td>\n",
       "      <td>122872</td>\n",
       "    </tr>\n",
       "    <tr>\n",
       "      <th>3650</th>\n",
       "      <td>2015-12-30</td>\n",
       "      <td>1571316</td>\n",
       "      <td>122732</td>\n",
       "    </tr>\n",
       "    <tr>\n",
       "      <th>3651</th>\n",
       "      <td>2015-12-31</td>\n",
       "      <td>1569425</td>\n",
       "      <td>122601</td>\n",
       "    </tr>\n",
       "  </tbody>\n",
       "</table>\n",
       "<p>3652 rows × 3 columns</p>\n",
       "</div>"
      ],
      "text/plain": [
       "product_type       date    apple     pen\n",
       "0            2006-01-01    33271    2574\n",
       "1            2006-01-02    31409    2431\n",
       "2            2006-01-03    29529    2260\n",
       "3            2006-01-04    27732    2107\n",
       "4            2006-01-05    25790    1974\n",
       "...                 ...      ...     ...\n",
       "3647         2015-12-27  1576773  123171\n",
       "3648         2015-12-28  1574976  123011\n",
       "3649         2015-12-29  1573136  122872\n",
       "3650         2015-12-30  1571316  122732\n",
       "3651         2015-12-31  1569425  122601\n",
       "\n",
       "[3652 rows x 3 columns]"
      ]
     },
     "execution_count": 18,
     "metadata": {},
     "output_type": "execute_result"
    }
   ],
   "source": [
    "daily_final"
   ]
  },
  {
   "cell_type": "code",
   "execution_count": 19,
   "metadata": {},
   "outputs": [
    {
     "data": {
      "text/html": [
       "<div>\n",
       "<style scoped>\n",
       "    .dataframe tbody tr th:only-of-type {\n",
       "        vertical-align: middle;\n",
       "    }\n",
       "\n",
       "    .dataframe tbody tr th {\n",
       "        vertical-align: top;\n",
       "    }\n",
       "\n",
       "    .dataframe thead th {\n",
       "        text-align: right;\n",
       "    }\n",
       "</style>\n",
       "<table border=\"1\" class=\"dataframe\">\n",
       "  <thead>\n",
       "    <tr style=\"text-align: right;\">\n",
       "      <th></th>\n",
       "      <th>date</th>\n",
       "      <th>apple</th>\n",
       "      <th>pen</th>\n",
       "    </tr>\n",
       "  </thead>\n",
       "  <tbody>\n",
       "    <tr>\n",
       "      <th>0</th>\n",
       "      <td>2006-01-31</td>\n",
       "      <td>10</td>\n",
       "      <td>11</td>\n",
       "    </tr>\n",
       "    <tr>\n",
       "      <th>1</th>\n",
       "      <td>2006-02-28</td>\n",
       "      <td>6</td>\n",
       "      <td>6</td>\n",
       "    </tr>\n",
       "    <tr>\n",
       "      <th>2</th>\n",
       "      <td>2006-03-31</td>\n",
       "      <td>7</td>\n",
       "      <td>6</td>\n",
       "    </tr>\n",
       "    <tr>\n",
       "      <th>3</th>\n",
       "      <td>2006-04-30</td>\n",
       "      <td>6</td>\n",
       "      <td>14</td>\n",
       "    </tr>\n",
       "    <tr>\n",
       "      <th>4</th>\n",
       "      <td>2006-05-31</td>\n",
       "      <td>8</td>\n",
       "      <td>1</td>\n",
       "    </tr>\n",
       "    <tr>\n",
       "      <th>...</th>\n",
       "      <td>...</td>\n",
       "      <td>...</td>\n",
       "      <td>...</td>\n",
       "    </tr>\n",
       "    <tr>\n",
       "      <th>115</th>\n",
       "      <td>2015-08-31</td>\n",
       "      <td>5</td>\n",
       "      <td>7</td>\n",
       "    </tr>\n",
       "    <tr>\n",
       "      <th>116</th>\n",
       "      <td>2015-09-30</td>\n",
       "      <td>5</td>\n",
       "      <td>7</td>\n",
       "    </tr>\n",
       "    <tr>\n",
       "      <th>117</th>\n",
       "      <td>2015-10-31</td>\n",
       "      <td>8</td>\n",
       "      <td>7</td>\n",
       "    </tr>\n",
       "    <tr>\n",
       "      <th>118</th>\n",
       "      <td>2015-11-30</td>\n",
       "      <td>6</td>\n",
       "      <td>5</td>\n",
       "    </tr>\n",
       "    <tr>\n",
       "      <th>119</th>\n",
       "      <td>2015-12-31</td>\n",
       "      <td>7</td>\n",
       "      <td>7</td>\n",
       "    </tr>\n",
       "  </tbody>\n",
       "</table>\n",
       "<p>120 rows × 3 columns</p>\n",
       "</div>"
      ],
      "text/plain": [
       "          date  apple  pen\n",
       "0   2006-01-31     10   11\n",
       "1   2006-02-28      6    6\n",
       "2   2006-03-31      7    6\n",
       "3   2006-04-30      6   14\n",
       "4   2006-05-31      8    1\n",
       "..         ...    ...  ...\n",
       "115 2015-08-31      5    7\n",
       "116 2015-09-30      5    7\n",
       "117 2015-10-31      8    7\n",
       "118 2015-11-30      6    5\n",
       "119 2015-12-31      7    7\n",
       "\n",
       "[120 rows x 3 columns]"
      ]
     },
     "execution_count": 19,
     "metadata": {},
     "output_type": "execute_result"
    }
   ],
   "source": [
    "steal_final"
   ]
  },
  {
   "cell_type": "markdown",
   "metadata": {},
   "source": [
    "### создание csv-файлов на основе итоговых датафреймов"
   ]
  },
  {
   "cell_type": "code",
   "execution_count": 20,
   "metadata": {},
   "outputs": [],
   "source": [
    "daily_final.to_csv('MS-b1-my_daily.csv', index = False)\n",
    "steal_final.to_csv('MS-b1-my_steal.csv', index = False)"
   ]
  },
  {
   "cell_type": "markdown",
   "metadata": {},
   "source": [
    "### Три худших года с точки зрения самых больших краж (по каждому из товаров)"
   ]
  },
  {
   "cell_type": "code",
   "execution_count": 23,
   "metadata": {},
   "outputs": [
    {
     "name": "stdout",
     "output_type": "stream",
     "text": [
      "Худшие три года с точки зрения кражи apple\n",
      " date\n",
      "2012    82\n",
      "2011    88\n",
      "2014    90\n",
      "Name: apple, dtype: int64\n",
      "Худшие три года с точки зрения кражи pen\n",
      " date\n",
      "2009     96\n",
      "2010     96\n",
      "2011    100\n",
      "Name: pen, dtype: int64\n"
     ]
    }
   ],
   "source": [
    "print(\"Худшие три года с точки зрения кражи apple\\n\", steal_final.groupby(steal_final['date'].dt.year)['apple'].sum().sort_values().tail(3))\n",
    "print(\"Худшие три года с точки зрения кражи pen\\n\", steal_final.groupby(steal_final['date'].dt.year)['pen'].sum().sort_values().tail(3))"
   ]
  },
  {
   "cell_type": "markdown",
   "metadata": {},
   "source": [
    "### Три лучших месяца с точки зрения самых эффективных продаж (по каждому из товаров)"
   ]
  },
  {
   "cell_type": "code",
   "execution_count": 24,
   "metadata": {},
   "outputs": [],
   "source": [
    "sell_daily = sell_daily.reset_index()"
   ]
  },
  {
   "cell_type": "code",
   "execution_count": 26,
   "metadata": {},
   "outputs": [],
   "source": [
    "sell_daily = sell_daily.rename(columns ={'index':'date'})\n",
    "sell_daily['date'] = pd.to_datetime(sell_daily['date'])"
   ]
  },
  {
   "cell_type": "code",
   "execution_count": 27,
   "metadata": {},
   "outputs": [
    {
     "name": "stdout",
     "output_type": "stream",
     "text": [
      "Лучшие три месяца с точки зрения продажи apple\n",
      " date\n",
      "12    579675\n",
      "7     579790\n",
      "10    580211\n",
      "Name: apple, dtype: int64\n",
      "Лучшие три месяца с точки зрения продажи pen\n",
      " date\n",
      "3     44547\n",
      "8     44547\n",
      "12    44549\n",
      "Name: pen, dtype: int64\n"
     ]
    }
   ],
   "source": [
    "print(\"Лучшие три месяца с точки зрения продажи apple\\n\", sell_daily.groupby(sell_daily['date'].dt.month)['apple'].sum().sort_values().tail(3))\n",
    "print(\"Лучшие три месяца с точки зрения продажи pen\\n\", sell_daily.groupby(sell_daily['date'].dt.month)['pen'].sum().sort_values().tail(3))"
   ]
  },
  {
   "cell_type": "markdown",
   "metadata": {},
   "source": [
    "###"
   ]
  }
 ],
 "metadata": {
  "kernelspec": {
   "display_name": "Python 3",
   "language": "python",
   "name": "python3"
  },
  "language_info": {
   "codemirror_mode": {
    "name": "ipython",
    "version": 3
   },
   "file_extension": ".py",
   "mimetype": "text/x-python",
   "name": "python",
   "nbconvert_exporter": "python",
   "pygments_lexer": "ipython3",
   "version": "3.6.9"
  }
 },
 "nbformat": 4,
 "nbformat_minor": 2
}
